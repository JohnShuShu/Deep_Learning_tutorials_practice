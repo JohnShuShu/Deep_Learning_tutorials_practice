{
 "cells": [
  {
   "cell_type": "code",
   "execution_count": 4,
   "metadata": {},
   "outputs": [],
   "source": [
    "import numpy as np\n",
    "from keras.models import Sequential\n",
    "from keras.layers import Dense"
   ]
  },
  {
   "cell_type": "code",
   "execution_count": 6,
   "metadata": {
    "collapsed": true
   },
   "outputs": [],
   "source": [
    "data = np.random.random((1000,100))\n",
    "labels = np.random.randint(2,size = (1000,1))"
   ]
  },
  {
   "cell_type": "code",
   "execution_count": 10,
   "metadata": {},
   "outputs": [
    {
     "name": "stdout",
     "output_type": "stream",
     "text": [
      "Epoch 1/10\n",
      "1000/1000 [==============================] - 0s - loss: 0.7147 - acc: 0.5090     \n",
      "Epoch 2/10\n",
      "1000/1000 [==============================] - 0s - loss: 0.7001 - acc: 0.5210     \n",
      "Epoch 3/10\n",
      "1000/1000 [==============================] - 0s - loss: 0.6968 - acc: 0.5420     \n",
      "Epoch 4/10\n",
      "1000/1000 [==============================] - 0s - loss: 0.6840 - acc: 0.5590     \n",
      "Epoch 5/10\n",
      "1000/1000 [==============================] - 0s - loss: 0.6788 - acc: 0.5730     \n",
      "Epoch 6/10\n",
      "1000/1000 [==============================] - 0s - loss: 0.6755 - acc: 0.5700     \n",
      "Epoch 7/10\n",
      "1000/1000 [==============================] - 0s - loss: 0.6695 - acc: 0.5670     \n",
      "Epoch 8/10\n",
      "1000/1000 [==============================] - 0s - loss: 0.6667 - acc: 0.5920     \n",
      "Epoch 9/10\n",
      "1000/1000 [==============================] - 0s - loss: 0.6575 - acc: 0.6240     \n",
      "Epoch 10/10\n",
      "1000/1000 [==============================] - 0s - loss: 0.6561 - acc: 0.6130     \n"
     ]
    }
   ],
   "source": [
    "model = Sequential()\n",
    "model.add(Dense(32,\n",
    "               activation = 'relu', \n",
    "               input_dim = 100))\n",
    "model.add(Dense(1,activation = 'sigmoid'))\n",
    "model.compile(optimizer = 'rmsprop',\n",
    "             loss= 'binary_crossentropy',\n",
    "             metrics = ['accuracy'])\n",
    "model.fit(data,labels, epochs = 10, batch_size =32)\n",
    "predictions = model.predict(data)"
   ]
  },
  {
   "cell_type": "code",
   "execution_count": 15,
   "metadata": {},
   "outputs": [
    {
     "name": "stdout",
     "output_type": "stream",
     "text": [
      "Downloading data from https://s3.amazonaws.com/text-datasets/imdb.npz\n",
      "17432576/17464789 [============================>.] - ETA: 0s"
     ]
    }
   ],
   "source": [
    "from keras.datasets import boston_housing, mnist,cifar10, imdb\n",
    "\n",
    "(x_train, y_train), (x_test, y_test) = mnist.load_data()\n",
    "(x_train_2, y_train_2), (x_test_2, y_test_2) = boston_housing.load_data()\n",
    "(x_train_3, y_train_3), (x_test_3, y_test_3) = cifar10.load_data()\n",
    "(x_train_4, y_train_4), (x_test_4, y_test_4) = imdb.load_data(num_words = 2000)\n",
    "num_classes = 10"
   ]
  },
  {
   "cell_type": "code",
   "execution_count": 18,
   "metadata": {},
   "outputs": [],
   "source": [
    "from keras.preprocessing import sequence\n",
    "x_train_4 = sequence.pad_sequences(x_train_4, maxlen = 80)\n",
    "x_test_4 = sequence.pad_sequences(x_test_4, maxlen = 80)"
   ]
  },
  {
   "cell_type": "code",
   "execution_count": 21,
   "metadata": {},
   "outputs": [],
   "source": [
    "from keras.utils import to_categorical\n",
    "\n",
    "Y_train = to_categorical(y_train, num_classes)\n",
    "Y_test = to_categorical(y_test, num_classes)\n",
    "Y_train_3 = to_categorical(y_train_3, num_classes)\n",
    "Y_test_3 = to_categorical(y_test_3, num_classes)"
   ]
  },
  {
   "cell_type": "code",
   "execution_count": null,
   "metadata": {
    "collapsed": true
   },
   "outputs": [],
   "source": []
  }
 ],
 "metadata": {
  "kernelspec": {
   "display_name": "Python [default]",
   "language": "python",
   "name": "python2"
  },
  "language_info": {
   "codemirror_mode": {
    "name": "ipython",
    "version": 2
   },
   "file_extension": ".py",
   "mimetype": "text/x-python",
   "name": "python",
   "nbconvert_exporter": "python",
   "pygments_lexer": "ipython2",
   "version": "2.7.13"
  }
 },
 "nbformat": 4,
 "nbformat_minor": 2
}
